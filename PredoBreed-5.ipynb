{
 "cells": [
  {
   "cell_type": "markdown",
   "metadata": {
    "slideshow": {
     "slide_type": "slide"
    }
   },
   "source": [
    "## 1. Tworzenie macierzy spokrewnień"
   ]
  },
  {
   "cell_type": "code",
   "execution_count": 58,
   "metadata": {},
   "outputs": [
    {
     "data": {
      "text/html": [
       "<div>\n",
       "<style scoped>\n",
       "    .dataframe tbody tr th:only-of-type {\n",
       "        vertical-align: middle;\n",
       "    }\n",
       "\n",
       "    .dataframe tbody tr th {\n",
       "        vertical-align: top;\n",
       "    }\n",
       "\n",
       "    .dataframe thead th {\n",
       "        text-align: right;\n",
       "    }\n",
       "</style>\n",
       "<table border=\"1\" class=\"dataframe\">\n",
       "  <thead>\n",
       "    <tr style=\"text-align: right;\">\n",
       "      <th></th>\n",
       "      <th>animal</th>\n",
       "      <th>sire</th>\n",
       "      <th>dam</th>\n",
       "    </tr>\n",
       "  </thead>\n",
       "  <tbody>\n",
       "    <tr>\n",
       "      <th>0</th>\n",
       "      <td>216</td>\n",
       "      <td>14</td>\n",
       "      <td>70</td>\n",
       "    </tr>\n",
       "    <tr>\n",
       "      <th>1</th>\n",
       "      <td>217</td>\n",
       "      <td>12</td>\n",
       "      <td>17</td>\n",
       "    </tr>\n",
       "    <tr>\n",
       "      <th>2</th>\n",
       "      <td>218</td>\n",
       "      <td>6</td>\n",
       "      <td>106</td>\n",
       "    </tr>\n",
       "    <tr>\n",
       "      <th>3</th>\n",
       "      <td>219</td>\n",
       "      <td>15</td>\n",
       "      <td>42</td>\n",
       "    </tr>\n",
       "    <tr>\n",
       "      <th>4</th>\n",
       "      <td>220</td>\n",
       "      <td>1</td>\n",
       "      <td>91</td>\n",
       "    </tr>\n",
       "  </tbody>\n",
       "</table>\n",
       "</div>"
      ],
      "text/plain": [
       "   animal  sire  dam\n",
       "0     216    14   70\n",
       "1     217    12   17\n",
       "2     218     6  106\n",
       "3     219    15   42\n",
       "4     220     1   91"
      ]
     },
     "execution_count": 58,
     "metadata": {},
     "output_type": "execute_result"
    }
   ],
   "source": [
    "import numpy as np\n",
    "import pandas as pd\n",
    "import matplotlib.pyplot as plt\n",
    "from scipy import stats\n",
    "\n",
    "data=pd.read_csv('pedigree10.txt', sep='\\t') #wczytanie danych pedigree\n",
    "dane=data.as_matrix()\n",
    "\n",
    "data.head()"
   ]
  },
  {
   "cell_type": "code",
   "execution_count": 59,
   "metadata": {
    "collapsed": true
   },
   "outputs": [],
   "source": [
    "def RelMatrixA(s,d):\n",
    "    n = len(s)\n",
    "    N = n + 1\n",
    "    A = np.zeros((N,N))\n",
    "    s = ( s == 0 ) * N + s\n",
    "    d = ( d == 0 ) * N + d\n",
    "    for i in range(n):\n",
    "        A[i,i] = 1 + A[s[i]-1, d[i]-1] * 0.5\n",
    "        for j in range(i+1,n):\n",
    "            if j > n:\n",
    "                break\n",
    "            A[i,j] = (A[i,s[j]-1] + A[i,d[j]-1]) * 0.5\n",
    "            A[j,i] = A[i,j]\n",
    "    return A"
   ]
  },
  {
   "cell_type": "code",
   "execution_count": 60,
   "metadata": {},
   "outputs": [
    {
     "name": "stdout",
     "output_type": "stream",
     "text": [
      "[[ 1.         0.         0.        ...,  0.25       0.         0.03125  ]\n",
      " [ 0.         1.         0.        ...,  0.         0.         0.       ]\n",
      " [ 0.         0.         1.        ...,  0.25       0.75       0.25     ]\n",
      " ..., \n",
      " [ 0.25       0.         0.25      ...,  1.         0.1875     0.2578125]\n",
      " [ 0.         0.         0.75      ...,  0.1875     1.25       0.1875   ]\n",
      " [ 0.03125    0.         0.25      ...,  0.2578125  0.1875     1.       ]]\n"
     ]
    }
   ],
   "source": [
    "n = len(dane[:,0])\n",
    "wynik = RelMatrixA(dane[:,1],dane[:,2])[0:n,0:n]\n",
    "print(wynik)"
   ]
  },
  {
   "cell_type": "markdown",
   "metadata": {
    "slideshow": {
     "slide_type": "slide"
    }
   },
   "source": [
    "## 2. Predykcja dla zbioru testowego"
   ]
  },
  {
   "cell_type": "code",
   "execution_count": 61,
   "metadata": {
    "collapsed": true
   },
   "outputs": [],
   "source": [
    "dane_hod=pd.read_csv('dane10.txt', sep='\\t') #wczytanie danych \n",
    "maska = np.random.rand(len(dane_hod)) < 0.8\n",
    "testowy = dane_hod[maska]\n",
    "walidacyjny = dane_hod[~maska]\n",
    "dane_hodowlane=testowy.as_matrix()"
   ]
  },
  {
   "cell_type": "code",
   "execution_count": 62,
   "metadata": {},
   "outputs": [
    {
     "name": "stdout",
     "output_type": "stream",
     "text": [
      "{0: 2.0, 1: 3.0, 2: 1.0}\n"
     ]
    },
    {
     "data": {
      "image/png": "[encoded data removed]",
      "text/plain": [
       "<matplotlib.figure.Figure at 0x1ced8942320>"
      ]
     },
     "metadata": {},
     "output_type": "display_data"
    }
   ],
   "source": [
    "dane_hodowlane=testowy.as_matrix()\n",
    "y = dane_hodowlane[:,1]\n",
    "h2 = 0.48\n",
    "\n",
    "\n",
    "List = []\n",
    "for k in dane_hodowlane[:,2]:\n",
    "    if k not in List:\n",
    "        List.append(k)\n",
    "\n",
    "herd = {}\n",
    "for j in range(len(List)):\n",
    "    herd[j] = List[j]\n",
    "print(herd)\n",
    "for i in range(len(herd)):\n",
    "    if 'Trzecia' == herd[i]:\n",
    "        print(herd[i])\n",
    "x = np.zeros((len(dane_hodowlane), len(herd) + 1))\n",
    "for i in range(len(x)):\n",
    "    for j in range(len(herd)):\n",
    "        if herd[j] == dane_hodowlane[:,2][i]:\n",
    "            x[i][0], x[i][j+1] = 1, 1\n",
    "\n",
    "z = np.zeros((len(y),len(y)+len(walidacyjny)))\n",
    "np.fill_diagonal(z,1)\n",
    "np.savetxt('macierz_stalych_testowy.txt',x)\n",
    "np.savetxt('macierz_losowych_testowy.txt',z)\n",
    "A = wynik\n",
    "odwrA=np.linalg.inv(A)\n",
    "x_t = x.transpose()\n",
    "z_t = z.transpose()\n",
    "L11=x_t.dot(x)\n",
    "L21=z_t.dot(x)\n",
    "L12=x_t.dot(z)\n",
    "L22=z_t.dot(z)+odwrA*(1-h2)/h2\n",
    "L1 =np.column_stack((L11, L12))\n",
    "L2 =np.column_stack((L21, L22))\n",
    "L = np.concatenate([L1, L2])\n",
    "odwrL = np.linalg.pinv(L)\n",
    "P1 = x_t.dot(y)\n",
    "P2 = z_t.dot(y)\n",
    "P = np.concatenate([P1, P2])\n",
    "result=odwrL.dot(P)\n",
    "b = result[0:len(herd)+1]\n",
    "a = result[len(herd)+1:]\n",
    "predy = x.dot(b) + z.dot(a)\n",
    "e = predy - y\n",
    "\n",
    "plt.figure(figsize=(20,10))\n",
    "for i in range(len(predy)):\n",
    "    plt.scatter(y[i], predy[i], color = 'black')\n",
    "plt.title('Real values versus prognoses')\n",
    "plt.xlabel('Prawdziwe wartości')\n",
    "plt.ylabel('Prognozy dla wartości fenotypowych')\n",
    "plt.show()"
   ]
  },
  {
   "cell_type": "code",
   "execution_count": 63,
   "metadata": {},
   "outputs": [
    {
     "name": "stdout",
     "output_type": "stream",
     "text": [
      "Korelacja Pearsona:  0.932997548129\n",
      "Wartość p:          3.58190578753e-107\n",
      "239\n"
     ]
    }
   ],
   "source": [
    "predylist = []\n",
    "for i in range(len(predy)):\n",
    "    predylist.append(predy[i])\n",
    "corr = stats.pearsonr(predylist, y)\n",
    "print('Korelacja Pearsona: %15s' % corr[0])\n",
    "print('Wartość p: %27s' % corr[1])\n",
    "print(len(dane_hodowlane[:,1]))"
   ]
  },
  {
   "cell_type": "markdown",
   "metadata": {},
   "source": [
    "# 3. Predykcja dla zbioru walidacyjnego"
   ]
  },
  {
   "cell_type": "code",
   "execution_count": 49,
   "metadata": {},
   "outputs": [
    {
     "name": "stdout",
     "output_type": "stream",
     "text": [
      "[ 205.18  194.82  205.23  205.25  200.2   201.14  213.01  203.38  190.56\n",
      "  200.58  197.98  217.5   197.24  185.99  183.07  178.51  197.17  182.2\n",
      "  179.12  195.32  191.99  193.79  198.34  199.25  196.32  191.98  210.54\n",
      "  187.97  188.37  191.94  208.39  207.93  205.54  207.51  215.49  196.32\n",
      "  193.47  198.94  198.07  192.65  180.42  198.54  204.33  189.79  198.79\n",
      "  193.75  203.81  174.3   185.62  197.17  188.99  184.93  186.99]\n"
     ]
    },
    {
     "ename": "ValueError",
     "evalue": "shapes (53,1) and (4,) not aligned: 1 (dim 1) != 4 (dim 0)",
     "output_type": "error",
     "traceback": [
      "\u001b[1;31m---------------------------------------------------------------------------\u001b[0m",
      "\u001b[1;31mValueError\u001b[0m                                Traceback (most recent call last)",
      "\u001b[1;32m<ipython-input-49-c1f72c7cb21c>\u001b[0m in \u001b[0;36m<module>\u001b[1;34m()\u001b[0m\n\u001b[0;32m      7\u001b[0m \u001b[0mnp\u001b[0m\u001b[1;33m.\u001b[0m\u001b[0mfill_diagonal\u001b[0m\u001b[1;33m(\u001b[0m\u001b[0mz\u001b[0m\u001b[1;33m,\u001b[0m\u001b[1;36m1\u001b[0m\u001b[1;33m)\u001b[0m\u001b[1;33m\u001b[0m\u001b[0m\n\u001b[0;32m      8\u001b[0m \u001b[0mnp\u001b[0m\u001b[1;33m.\u001b[0m\u001b[0msavetxt\u001b[0m\u001b[1;33m(\u001b[0m\u001b[1;34m'macierz_losowych_walidacyjny.txt'\u001b[0m\u001b[1;33m,\u001b[0m\u001b[0mz\u001b[0m\u001b[1;33m)\u001b[0m\u001b[1;33m\u001b[0m\u001b[0m\n\u001b[1;32m----> 9\u001b[1;33m \u001b[0mpredy\u001b[0m \u001b[1;33m=\u001b[0m \u001b[0mx\u001b[0m\u001b[1;33m.\u001b[0m\u001b[0mdot\u001b[0m\u001b[1;33m(\u001b[0m\u001b[0mb\u001b[0m\u001b[1;33m)\u001b[0m \u001b[1;33m+\u001b[0m \u001b[0mz\u001b[0m\u001b[1;33m.\u001b[0m\u001b[0mdot\u001b[0m\u001b[1;33m(\u001b[0m\u001b[0ma\u001b[0m\u001b[1;33m)\u001b[0m\u001b[1;33m\u001b[0m\u001b[0m\n\u001b[0m\u001b[0;32m     10\u001b[0m \u001b[0me\u001b[0m \u001b[1;33m=\u001b[0m \u001b[0mpredy\u001b[0m \u001b[1;33m-\u001b[0m \u001b[0my\u001b[0m\u001b[1;33m\u001b[0m\u001b[0m\n\u001b[0;32m     11\u001b[0m \u001b[0mplt\u001b[0m\u001b[1;33m.\u001b[0m\u001b[0mfigure\u001b[0m\u001b[1;33m(\u001b[0m\u001b[0mfigsize\u001b[0m\u001b[1;33m=\u001b[0m\u001b[1;33m(\u001b[0m\u001b[1;36m20\u001b[0m\u001b[1;33m,\u001b[0m\u001b[1;36m10\u001b[0m\u001b[1;33m)\u001b[0m\u001b[1;33m)\u001b[0m\u001b[1;33m\u001b[0m\u001b[0m\n",
      "\u001b[1;31mValueError\u001b[0m: shapes (53,1) and (4,) not aligned: 1 (dim 1) != 4 (dim 0)"
     ]
    }
   ],
   "source": [
    "dane=walidacyjny.as_matrix()\n",
    "y = dane[:,1]\n",
    "\n",
    "\n",
    "x = np.full((len(y),1), 1)\n",
    "np.savetxt('macierz_stalych_walidacyjny.txt',x)\n",
    "z = np.zeros((len(y),len(y)+len(dane_hodowlane[:,1])))\n",
    "np.fill_diagonal(z,1)\n",
    "np.savetxt('macierz_losowych_walidacyjny.txt',z)\n",
    "predy = x.dot(b) + z.dot(a)\n",
    "e = predy - y\n",
    "plt.figure(figsize=(20,10))\n",
    "for i in range(len(predy)):\n",
    "    plt.scatter(y[i], predy[i][i], color = 'black')\n",
    "plt.title('Real values versus prognoses')\n",
    "plt.xlabel('Prawdziwe wartości')\n",
    "plt.ylabel('Prognozy dla wartości fenotypowych')\n",
    "plt.show()"
   ]
  },
  {
   "cell_type": "code",
   "execution_count": 45,
   "metadata": {},
   "outputs": [
    {
     "ename": "IndexError",
     "evalue": "invalid index to scalar variable.",
     "output_type": "error",
     "traceback": [
      "\u001b[1;31m---------------------------------------------------------------------------\u001b[0m",
      "\u001b[1;31mIndexError\u001b[0m                                Traceback (most recent call last)",
      "\u001b[1;32m<ipython-input-45-f507ed006b1a>\u001b[0m in \u001b[0;36m<module>\u001b[1;34m()\u001b[0m\n\u001b[0;32m      1\u001b[0m \u001b[0mpredylist\u001b[0m \u001b[1;33m=\u001b[0m \u001b[1;33m[\u001b[0m\u001b[1;33m]\u001b[0m\u001b[1;33m\u001b[0m\u001b[0m\n\u001b[0;32m      2\u001b[0m \u001b[1;32mfor\u001b[0m \u001b[0mi\u001b[0m \u001b[1;32min\u001b[0m \u001b[0mrange\u001b[0m\u001b[1;33m(\u001b[0m\u001b[0mlen\u001b[0m\u001b[1;33m(\u001b[0m\u001b[0mpredy\u001b[0m\u001b[1;33m)\u001b[0m\u001b[1;33m)\u001b[0m\u001b[1;33m:\u001b[0m\u001b[1;33m\u001b[0m\u001b[0m\n\u001b[1;32m----> 3\u001b[1;33m     \u001b[0mpredylist\u001b[0m\u001b[1;33m.\u001b[0m\u001b[0mappend\u001b[0m\u001b[1;33m(\u001b[0m\u001b[0mpredy\u001b[0m\u001b[1;33m[\u001b[0m\u001b[0mi\u001b[0m\u001b[1;33m]\u001b[0m\u001b[1;33m[\u001b[0m\u001b[0mi\u001b[0m\u001b[1;33m]\u001b[0m\u001b[1;33m)\u001b[0m\u001b[1;33m\u001b[0m\u001b[0m\n\u001b[0m\u001b[0;32m      4\u001b[0m \u001b[0mcorr\u001b[0m \u001b[1;33m=\u001b[0m \u001b[0mstats\u001b[0m\u001b[1;33m.\u001b[0m\u001b[0mpearsonr\u001b[0m\u001b[1;33m(\u001b[0m\u001b[0mpredylist\u001b[0m\u001b[1;33m,\u001b[0m \u001b[0my\u001b[0m\u001b[1;33m)\u001b[0m\u001b[1;33m\u001b[0m\u001b[0m\n\u001b[0;32m      5\u001b[0m \u001b[0mprint\u001b[0m\u001b[1;33m(\u001b[0m\u001b[1;34m'Korelacja Pearsona: %15s'\u001b[0m \u001b[1;33m%\u001b[0m \u001b[0mcorr\u001b[0m\u001b[1;33m[\u001b[0m\u001b[1;36m0\u001b[0m\u001b[1;33m]\u001b[0m\u001b[1;33m)\u001b[0m\u001b[1;33m\u001b[0m\u001b[0m\n",
      "\u001b[1;31mIndexError\u001b[0m: invalid index to scalar variable."
     ]
    }
   ],
   "source": [
    "predylist = []\n",
    "for i in range(len(predy)):\n",
    "    predylist.append(predy[i][i])\n",
    "corr = stats.pearsonr(predylist, y)\n",
    "print('Korelacja Pearsona: %15s' % corr[0])\n",
    "print('Wartość p: %24s' % corr[1])"
   ]
  },
  {
   "cell_type": "code",
   "execution_count": null,
   "metadata": {
    "collapsed": true
   },
   "outputs": [],
   "source": []
  }
 ],
 "metadata": {
  "celltoolbar": "Slideshow",
  "kernelspec": {
   "display_name": "Python 3",
   "language": "python",
   "name": "python3"
  }
 },
 "nbformat": 4,
 "nbformat_minor": 1
}
