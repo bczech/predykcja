{
 "cells": [
  {
   "cell_type": "markdown",
   "metadata": {
    "slideshow": {
     "slide_type": "slide"
    }
   },
   "source": [
    "## 1. Tworzenie macierzy spokrewnień"
   ]
  },
  {
   "cell_type": "code",
   "execution_count": 298,
   "metadata": {},
   "outputs": [
    {
     "data": {
      "text/html": [
       "<div>\n",
       "<style scoped>\n",
       "    .dataframe tbody tr th:only-of-type {\n",
       "        vertical-align: middle;\n",
       "    }\n",
       "\n",
       "    .dataframe tbody tr th {\n",
       "        vertical-align: top;\n",
       "    }\n",
       "\n",
       "    .dataframe thead th {\n",
       "        text-align: right;\n",
       "    }\n",
       "</style>\n",
       "<table border=\"1\" class=\"dataframe\">\n",
       "  <thead>\n",
       "    <tr style=\"text-align: right;\">\n",
       "      <th></th>\n",
       "      <th>animal</th>\n",
       "      <th>sire</th>\n",
       "      <th>dam</th>\n",
       "    </tr>\n",
       "  </thead>\n",
       "  <tbody>\n",
       "    <tr>\n",
       "      <th>0</th>\n",
       "      <td>106</td>\n",
       "      <td>5</td>\n",
       "      <td>82</td>\n",
       "    </tr>\n",
       "    <tr>\n",
       "      <th>1</th>\n",
       "      <td>107</td>\n",
       "      <td>1</td>\n",
       "      <td>15</td>\n",
       "    </tr>\n",
       "    <tr>\n",
       "      <th>2</th>\n",
       "      <td>108</td>\n",
       "      <td>1</td>\n",
       "      <td>97</td>\n",
       "    </tr>\n",
       "    <tr>\n",
       "      <th>3</th>\n",
       "      <td>109</td>\n",
       "      <td>3</td>\n",
       "      <td>99</td>\n",
       "    </tr>\n",
       "    <tr>\n",
       "      <th>4</th>\n",
       "      <td>110</td>\n",
       "      <td>4</td>\n",
       "      <td>88</td>\n",
       "    </tr>\n",
       "  </tbody>\n",
       "</table>\n",
       "</div>"
      ],
      "text/plain": [
       "   animal  sire  dam\n",
       "0     106     5   82\n",
       "1     107     1   15\n",
       "2     108     1   97\n",
       "3     109     3   99\n",
       "4     110     4   88"
      ]
     },
     "execution_count": 298,
     "metadata": {},
     "output_type": "execute_result"
    }
   ],
   "source": [
    "import numpy as np\n",
    "import pandas as pd\n",
    "import matplotlib.pyplot as plt\n",
    "\n",
    "data=pd.read_csv('pedigree2.txt', sep='\\t') #wczytanie danych pedigree\n",
    "dane=data.as_matrix()\n",
    "\n",
    "data.head()"
   ]
  },
  {
   "cell_type": "code",
   "execution_count": 299,
   "metadata": {
    "collapsed": true
   },
   "outputs": [],
   "source": [
    "def RelMatrixA(s,d):\n",
    "    n = len(s)\n",
    "    N = n + 1\n",
    "    A = np.zeros((N,N))\n",
    "    s = ( s == 0 ) * N + s\n",
    "    d = ( d == 0 ) * N + d\n",
    "    for i in range(n):\n",
    "        A[i,i] = 1 + A[s[i]-1, d[i]-1] * 0.5\n",
    "        for j in range(i+1,n):\n",
    "            if j > n:\n",
    "                break\n",
    "            A[i,j] = (A[i,s[j]-1] + A[i,d[j]-1]) * 0.5\n",
    "            A[j,i] = A[i,j]\n",
    "    return A"
   ]
  },
  {
   "cell_type": "code",
   "execution_count": 300,
   "metadata": {},
   "outputs": [
    {
     "name": "stdout",
     "output_type": "stream",
     "text": [
      "[[ 1.          0.5         0.5        ...,  0.5         0.265625    0.3125    ]\n",
      " [ 0.5         1.125       0.25       ...,  0.25        0.1328125   0.15625   ]\n",
      " [ 0.5         0.25        1.15625    ...,  0.703125    0.61425781\n",
      "   0.26953125]\n",
      " ..., \n",
      " [ 0.5         0.25        0.703125   ...,  1.125       0.37353516\n",
      "   0.21289062]\n",
      " [ 0.265625    0.1328125   0.61425781 ...,  0.37353516  1.2131958\n",
      "   0.33037567]\n",
      " [ 0.3125      0.15625     0.26953125 ...,  0.21289062  0.33037567  1.03125   ]]\n"
     ]
    }
   ],
   "source": [
    "n = len(dane[:,0])\n",
    "wynik = RelMatrixA(dane[:,1],dane[:,2])[0:n,0:n]\n",
    "print(wynik)"
   ]
  },
  {
   "cell_type": "markdown",
   "metadata": {
    "slideshow": {
     "slide_type": "slide"
    }
   },
   "source": [
    "## 2. Predykcja dla zbioru testowego"
   ]
  },
  {
   "cell_type": "code",
   "execution_count": 301,
   "metadata": {},
   "outputs": [
    {
     "data": {
      "image/png": "[encoded data removed]",
      "text/plain": [
       "<matplotlib.figure.Figure at 0x2ba6191e470>"
      ]
     },
     "metadata": {},
     "output_type": "display_data"
    }
   ],
   "source": [
    "dane_hod=pd.read_csv('dane_b_walid.txt', sep='\\t') #wczytanie danych \n",
    "dane_hodowlane=dane_hod.as_matrix()\n",
    "y = dane_hodowlane[:,1]\n",
    "h2 = 0.48\n",
    "x = np.full((len(y),1), 1)\n",
    "z = np.zeros((len(y),len(y)+20))\n",
    "np.fill_diagonal(z,1)\n",
    "np.savetxt('macierz_stalych_testowy.txt',x)\n",
    "np.savetxt('macierz_losowych_testowy.txt',z)\n",
    "A = wynik\n",
    "odwrA=np.linalg.inv(A)\n",
    "x_t = x.transpose()\n",
    "z_t = z.transpose()\n",
    "L11=x_t.dot(x)\n",
    "L21=z_t.dot(x)\n",
    "L12=x_t.dot(z)\n",
    "L22=z_t.dot(z)+odwrA*(1-h2)/h2\n",
    "L1 =np.column_stack((L11, L12))\n",
    "L2 =np.column_stack((L21, L22))\n",
    "L = np.concatenate([L1, L2])\n",
    "odwrL = np.linalg.pinv(L)\n",
    "P1 = x_t.dot(y)\n",
    "P2 = z_t.dot(y)\n",
    "P = np.concatenate([P1, P2])\n",
    "result=odwrL.dot(P)\n",
    "b = result[0]\n",
    "a = result[1:]\n",
    "predy = x.dot(b) + z.dot(a)\n",
    "e = predy - y\n",
    "\n",
    "plt.figure(figsize=(20,10))\n",
    "for i in range(len(predy)):\n",
    "    plt.scatter(y[i], predy[i][i], color = 'black')\n",
    "plt.title('Real values versus prognoses')\n",
    "plt.xlabel('Prawdziwe wartości')\n",
    "plt.ylabel('Prognozy dla wartości fenotypowych')\n",
    "plt.show()"
   ]
  },
  {
   "cell_type": "code",
   "execution_count": 305,
   "metadata": {},
   "outputs": [
    {
     "name": "stdout",
     "output_type": "stream",
     "text": [
      "Korelacja Pearsona:  0.885078732683\n",
      "Wartość p:           5.11016126364e-61\n",
      "180\n"
     ]
    }
   ],
   "source": [
    "from scipy import stats\n",
    "predylist = []\n",
    "for i in range(len(predy)):\n",
    "    predylist.append(predy[i][i])\n",
    "corr = stats.pearsonr(predylist, y)\n",
    "print('Korelacja Pearsona: %15s' % corr[0])\n",
    "print('Wartość p: %27s' % corr[1])\n",
    "print(len(dane_hodowlane[:,1]))"
   ]
  },
  {
   "cell_type": "markdown",
   "metadata": {},
   "source": [
    "# 3. Predykcja dla zbioru walidacyjnego"
   ]
  },
  {
   "cell_type": "code",
   "execution_count": 306,
   "metadata": {},
   "outputs": [
    {
     "data": {
      "image/png": "[encoded data removed]",
      "text/plain": [
       "<matplotlib.figure.Figure at 0x2ba6180e0b8>"
      ]
     },
     "metadata": {},
     "output_type": "display_data"
    }
   ],
   "source": [
    "dane = pd.read_csv('walid.txt', sep='\\t')\n",
    "dane=dane.as_matrix()\n",
    "y = dane[:,1]\n",
    "x = np.full((len(y),1), 1)\n",
    "np.savetxt('macierz_stalych_walidacyjny.txt',x)\n",
    "z = np.zeros((len(y),len(y)+len(dane_hodowlane[:,1])))\n",
    "np.fill_diagonal(z,1)\n",
    "np.savetxt('macierz_losowych_walidacyjny.txt',z)\n",
    "predy = x.dot(b) + z.dot(a)\n",
    "e = predy - y\n",
    "plt.figure(figsize=(20,10))\n",
    "for i in range(len(predy)):\n",
    "    plt.scatter(y[i], predy[i][i], color = 'black')\n",
    "plt.title('Real values versus prognoses')\n",
    "plt.xlabel('Prawdziwe wartości')\n",
    "plt.ylabel('Prognozy dla wartości fenotypowych')\n",
    "plt.show()"
   ]
  },
  {
   "cell_type": "code",
   "execution_count": 309,
   "metadata": {},
   "outputs": [
    {
     "name": "stdout",
     "output_type": "stream",
     "text": [
      "Korelacja Pearsona:  0.198789968625\n",
      "Wartość p:           0.400793015735\n"
     ]
    }
   ],
   "source": [
    "predylist = []\n",
    "for i in range(len(predy)):\n",
    "    predylist.append(predy[i][i])\n",
    "corr = stats.pearsonr(predylist, y)\n",
    "print('Korelacja Pearsona: %15s' % corr[0])\n",
    "print('Wartość p: %24s' % corr[1])"
   ]
  },
  {
   "cell_type": "code",
   "execution_count": null,
   "metadata": {
    "collapsed": true
   },
   "outputs": [],
   "source": []
  }
 ],
 "metadata": {
  "celltoolbar": "Slideshow",
  "kernelspec": {
   "display_name": "Python 3",
   "language": "python",
   "name": "python3"
  },
  "language_info": {
   "codemirror_mode": {
    "name": "ipython",
    "version": 3
   },
   "file_extension": ".py",
   "mimetype": "text/x-python",
   "name": "python",
   "nbconvert_exporter": "python",
   "pygments_lexer": "ipython3",
   "version": "3.6.3"
  }
 },
 "nbformat": 4,
 "nbformat_minor": 1
}
