{
 "cells": [
  {
   "cell_type": "code",
   "execution_count": 9,
   "metadata": {},
   "outputs": [
    {
     "name": "stdout",
     "output_type": "stream",
     "text": [
      "[[ 1.          0.5         0.5        ...,  0.5         0.265625    0.3125    ]\n",
      " [ 0.5         1.125       0.25       ...,  0.25        0.1328125   0.15625   ]\n",
      " [ 0.5         0.25        1.15625    ...,  0.703125    0.61425781\n",
      "   0.26953125]\n",
      " ..., \n",
      " [ 0.5         0.25        0.703125   ...,  1.125       0.37353516\n",
      "   0.21289062]\n",
      " [ 0.265625    0.1328125   0.61425781 ...,  0.37353516  1.2131958\n",
      "   0.33037567]\n",
      " [ 0.3125      0.15625     0.26953125 ...,  0.21289062  0.33037567  1.03125   ]]\n"
     ]
    }
   ],
   "source": [
    "import numpy as np\n",
    "import pandas as pd\n",
    "\n",
    "data=pd.read_csv('pedigree2.txt', sep='\\t') #wczytanie danych pedigree\n",
    "data=data.as_matrix()\n",
    "\n",
    "def RelMatrixA(s,d):\n",
    "    n = len(s)\n",
    "    N = n + 1\n",
    "    A = np.zeros((N,N))\n",
    "    s = ( s == 0 ) * N + s\n",
    "    d = ( d == 0 ) * N + d\n",
    "    for i in range(n):\n",
    "        A[i,i] = 1 + A[s[i]-1, d[i]-1] * 0.5\n",
    "        for j in range(i+1,n):\n",
    "            if j > n:\n",
    "                break\n",
    "            A[i,j] = (A[i,s[j]-1] + A[i,d[j]-1]) * 0.5\n",
    "            A[j,i] = A[i,j]\n",
    "    return A\n",
    "n = len(data[:,0])\n",
    "wynik = RelMatrixA(data[:,1],data[:,2])[0:n,0:n]\n",
    "print(wynik)"
   ]
  },
  {
   "cell_type": "code",
   "execution_count": 12,
   "metadata": {},
   "outputs": [
    {
     "name": "stdout",
     "output_type": "stream",
     "text": [
      " Volume in drive F has no label.\n",
      " Volume Serial Number is E09E-68E5\n",
      "\n",
      " Directory of F:\\Workstation\n",
      "\n",
      "10.11.2017  14:50    <DIR>          .\n",
      "10.11.2017  14:50    <DIR>          ..\n",
      "10.11.2017  14:57    <DIR>          PredoBreed\n",
      "               0 File(s)              0 bytes\n",
      "               3 Dir(s)  384�706�465�792 bytes free\n"
     ]
    }
   ],
   "source": [
    "ls"
   ]
  },
  {
   "cell_type": "code",
   "execution_count": 11,
   "metadata": {},
   "outputs": [
    {
     "name": "stdout",
     "output_type": "stream",
     "text": [
      "F:\\Workstation\n"
     ]
    }
   ],
   "source": []
  },
  {
   "cell_type": "code",
   "execution_count": null,
   "metadata": {},
   "outputs": [],
   "source": []
  }
 ],
 "metadata": {
  "kernelspec": {
   "display_name": "Python 3",
   "language": "python",
   "name": "python3"
  },
  "language_info": {
   "codemirror_mode": {
    "name": "ipython",
    "version": 3
   },
   "file_extension": ".py",
   "mimetype": "text/x-python",
   "name": "python",
   "nbconvert_exporter": "python",
   "pygments_lexer": "ipython3",
   "version": "3.6.3"
  }
 },
 "nbformat": 4,
 "nbformat_minor": 1
}
