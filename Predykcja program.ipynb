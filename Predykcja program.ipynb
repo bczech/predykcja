{
 "cells": [
  {
   "cell_type": "code",
   "execution_count": 3,
   "metadata": {},
   "outputs": [],
   "source": [
    "import numpy as np"
   ]
  },
  {
   "cell_type": "code",
   "execution_count": 4,
   "metadata": {},
   "outputs": [],
   "source": [
    "import pandas as pd"
   ]
  },
  {
   "cell_type": "code",
   "execution_count": 5,
   "metadata": {},
   "outputs": [],
   "source": [
    "from numpy import genfromtxt"
   ]
  },
  {
   "cell_type": "code",
   "execution_count": 6,
   "metadata": {},
   "outputs": [],
   "source": [
    "data=pd.read_csv('pedigree2.txt', sep='\\t') #wczytanie danych pedigree"
   ]
  },
  {
   "cell_type": "code",
   "execution_count": 7,
   "metadata": {},
   "outputs": [],
   "source": [
    "data=data.as_matrix()"
   ]
  },
  {
   "cell_type": "code",
   "execution_count": 8,
   "metadata": {
    "scrolled": false
   },
   "outputs": [
    {
     "data": {
      "text/plain": [
       "111"
      ]
     },
     "execution_count": 8,
     "metadata": {},
     "output_type": "execute_result"
    }
   ],
   "source": [
    "data[5][0]"
   ]
  },
  {
   "cell_type": "code",
   "execution_count": 9,
   "metadata": {
    "scrolled": true
   },
   "outputs": [
    {
     "name": "stdout",
     "output_type": "stream",
     "text": [
      "[[ 1.          0.5         0.5        ...,  0.5         0.265625    0.3125    ]\n",
      " [ 0.5         1.125       0.25       ...,  0.25        0.1328125   0.15625   ]\n",
      " [ 0.5         0.25        1.15625    ...,  0.703125    0.61425781\n",
      "   0.26953125]\n",
      " ..., \n",
      " [ 0.5         0.25        0.703125   ...,  1.125       0.37353516\n",
      "   0.21289062]\n",
      " [ 0.265625    0.1328125   0.61425781 ...,  0.37353516  1.2131958\n",
      "   0.33037567]\n",
      " [ 0.3125      0.15625     0.26953125 ...,  0.21289062  0.33037567  1.03125   ]]\n"
     ]
    }
   ],
   "source": [
    "import numpy as np\n",
    "import pandas as pd\n",
    "\n",
    "data=pd.read_csv('pedigree2.txt', sep='\\t') #wczytanie danych pedigree\n",
    "data=data.as_matrix()\n",
    "\n",
    "def RelMatrixA(s,d):\n",
    "    n = len(s)\n",
    "    N = n + 1\n",
    "    A = np.zeros((N,N))\n",
    "    s = ( s == 0 ) * N + s\n",
    "    d = ( d == 0 ) * N + d\n",
    "    for i in range(n):\n",
    "        A[i,i] = 1 + A[s[i]-1, d[i]-1] * 0.5\n",
    "        for j in range(i+1,n):\n",
    "            if j > n:\n",
    "                break\n",
    "            A[i,j] = (A[i,s[j]-1] + A[i,d[j]-1]) * 0.5\n",
    "            A[j,i] = A[i,j]\n",
    "    return A\n",
    "n = len(data[:,0])\n",
    "wynik = RelMatrixA(data[:,1],data[:,2])[0:n,0:n]\n",
    "print(wynik)"
   ]
  },
  {
   "cell_type": "code",
   "execution_count": 10,
   "metadata": {},
   "outputs": [],
   "source": [
    "odwrA=np.linalg.inv(wynik) #odwrotna macierz spokrewnien"
   ]
  },
  {
   "cell_type": "code",
   "execution_count": 11,
   "metadata": {},
   "outputs": [],
   "source": [
    "## PREDYKCJA DLA ZBIORU TESTOWEGO"
   ]
  },
  {
   "cell_type": "code",
   "execution_count": 13,
   "metadata": {},
   "outputs": [],
   "source": [
    "dane_hodowlane=pd.read_csv('dane2.txt', sep='\\t') #wczytanie danych hodowlanych"
   ]
  },
  {
   "cell_type": "code",
   "execution_count": 14,
   "metadata": {},
   "outputs": [
    {
     "data": {
      "text/html": [
       "<div>\n",
       "<style>\n",
       "    .dataframe thead tr:only-child th {\n",
       "        text-align: right;\n",
       "    }\n",
       "\n",
       "    .dataframe thead th {\n",
       "        text-align: left;\n",
       "    }\n",
       "\n",
       "    .dataframe tbody tr th {\n",
       "        vertical-align: top;\n",
       "    }\n",
       "</style>\n",
       "<table border=\"1\" class=\"dataframe\">\n",
       "  <thead>\n",
       "    <tr style=\"text-align: right;\">\n",
       "      <th></th>\n",
       "      <th>animal</th>\n",
       "      <th>milk</th>\n",
       "    </tr>\n",
       "  </thead>\n",
       "  <tbody>\n",
       "    <tr>\n",
       "      <th>0</th>\n",
       "      <td>106</td>\n",
       "      <td>5493.91</td>\n",
       "    </tr>\n",
       "    <tr>\n",
       "      <th>1</th>\n",
       "      <td>107</td>\n",
       "      <td>5451.05</td>\n",
       "    </tr>\n",
       "    <tr>\n",
       "      <th>2</th>\n",
       "      <td>108</td>\n",
       "      <td>5624.35</td>\n",
       "    </tr>\n",
       "    <tr>\n",
       "      <th>3</th>\n",
       "      <td>109</td>\n",
       "      <td>5848.69</td>\n",
       "    </tr>\n",
       "    <tr>\n",
       "      <th>4</th>\n",
       "      <td>110</td>\n",
       "      <td>5232.49</td>\n",
       "    </tr>\n",
       "  </tbody>\n",
       "</table>\n",
       "</div>"
      ],
      "text/plain": [
       "   animal     milk\n",
       "0     106  5493.91\n",
       "1     107  5451.05\n",
       "2     108  5624.35\n",
       "3     109  5848.69\n",
       "4     110  5232.49"
      ]
     },
     "execution_count": 14,
     "metadata": {},
     "output_type": "execute_result"
    }
   ],
   "source": [
    "dane_hodowlane.head()"
   ]
  },
  {
   "cell_type": "code",
   "execution_count": null,
   "metadata": {},
   "outputs": [],
   "source": [
    " "
   ]
  }
 ],
 "metadata": {
  "kernelspec": {
   "display_name": "Python 3",
   "language": "python",
   "name": "python3"
  },
  "language_info": {
   "codemirror_mode": {
    "name": "ipython",
    "version": 3
   },
   "file_extension": ".py",
   "mimetype": "text/x-python",
   "name": "python",
   "nbconvert_exporter": "python",
   "pygments_lexer": "ipython3",
   "version": "3.6.3"
  }
 },
 "nbformat": 4,
 "nbformat_minor": 2
}
